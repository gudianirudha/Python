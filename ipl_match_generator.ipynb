{
 "cells": [
  {
   "cell_type": "code",
   "execution_count": 42,
   "metadata": {},
   "outputs": [
    {
     "name": "stdout",
     "output_type": "stream",
     "text": [
      "Royal Challengers Bangalore  VS Chennai Super Kings Match will be played at Bangalore\n",
      "Royal Challengers Bangalore  VS Rajstahan Royals Match will be played at Bangalore\n",
      "Royal Challengers Bangalore  VS Mumbai Indians Match will be played at Bangalore\n",
      "Royal Challengers Bangalore  VS Delhi Capitals Match will be played at Bangalore\n",
      "Royal Challengers Bangalore  VS KKR Match will be played at Bangalore\n",
      "Royal Challengers Bangalore  VS Kings XI Punjab Players  Match will be played at Bangalore\n",
      "Chennai Super Kings VS Royal Challengers Bangalore  Match will be played at Chennai\n",
      "Chennai Super Kings VS Rajstahan Royals Match will be played at Chennai\n",
      "Chennai Super Kings VS Mumbai Indians Match will be played at Chennai\n",
      "Chennai Super Kings VS Delhi Capitals Match will be played at Chennai\n",
      "Chennai Super Kings VS KKR Match will be played at Chennai\n",
      "Chennai Super Kings VS Kings XI Punjab Players  Match will be played at Chennai\n",
      "Rajstahan Royals VS Royal Challengers Bangalore  Match will be played at Jaipur\n",
      "Rajstahan Royals VS Chennai Super Kings Match will be played at Jaipur\n",
      "Rajstahan Royals VS Mumbai Indians Match will be played at Jaipur\n",
      "Rajstahan Royals VS Delhi Capitals Match will be played at Jaipur\n",
      "Rajstahan Royals VS KKR Match will be played at Jaipur\n",
      "Rajstahan Royals VS Kings XI Punjab Players  Match will be played at Jaipur\n",
      "Mumbai Indians VS Royal Challengers Bangalore  Match will be played at Mumbai\n",
      "Mumbai Indians VS Chennai Super Kings Match will be played at Mumbai\n",
      "Mumbai Indians VS Rajstahan Royals Match will be played at Mumbai\n",
      "Mumbai Indians VS Delhi Capitals Match will be played at Mumbai\n",
      "Mumbai Indians VS KKR Match will be played at Mumbai\n",
      "Mumbai Indians VS Kings XI Punjab Players  Match will be played at Mumbai\n",
      "Delhi Capitals VS Royal Challengers Bangalore  Match will be played at Delhi\n",
      "Delhi Capitals VS Chennai Super Kings Match will be played at Delhi\n",
      "Delhi Capitals VS Rajstahan Royals Match will be played at Delhi\n",
      "Delhi Capitals VS Mumbai Indians Match will be played at Delhi\n",
      "Delhi Capitals VS KKR Match will be played at Delhi\n",
      "Delhi Capitals VS Kings XI Punjab Players  Match will be played at Delhi\n",
      "KKR VS Royal Challengers Bangalore  Match will be played at Kolkatta\n",
      "KKR VS Chennai Super Kings Match will be played at Kolkatta\n",
      "KKR VS Rajstahan Royals Match will be played at Kolkatta\n",
      "KKR VS Mumbai Indians Match will be played at Kolkatta\n",
      "KKR VS Delhi Capitals Match will be played at Kolkatta\n",
      "KKR VS Kings XI Punjab Players  Match will be played at Kolkatta\n",
      "Kings XI Punjab Players  VS Royal Challengers Bangalore  Match will be played at Chandigarh\n",
      "Kings XI Punjab Players  VS Chennai Super Kings Match will be played at Chandigarh\n",
      "Kings XI Punjab Players  VS Rajstahan Royals Match will be played at Chandigarh\n",
      "Kings XI Punjab Players  VS Mumbai Indians Match will be played at Chandigarh\n",
      "Kings XI Punjab Players  VS Delhi Capitals Match will be played at Chandigarh\n",
      "Kings XI Punjab Players  VS KKR Match will be played at Chandigarh\n"
     ]
    }
   ],
   "source": [
    "ipl_teams=['Royal Challengers Bangalore ',\n",
    "           'Chennai Super Kings',\n",
    "           'Rajstahan Royals',\n",
    "           'Mumbai Indians',\n",
    "           'Delhi Capitals',\n",
    "           'KKR',\n",
    "           'Kings XI Punjab Players ']\n",
    "for host in ipl_teams:\n",
    "    for guest in ipl_teams:\n",
    "        if host!=guest:\n",
    "            print(host+\" VS \"+ guest+ \" Match will be played at \" + home_ground(host))\n",
    "def home_ground(loc): \n",
    "    switcher = { \n",
    "        \"Royal Challengers Bangalore \": \"Bangalore\", \n",
    "        \"Chennai Super Kings\": \"Chennai\", \n",
    "        \"Rajstahan Royals\" :  \"Jaipur\",\n",
    "        \"Mumbai Indians\" :  \"Mumbai\",\n",
    "        \"Delhi Capitals\" :  \"Delhi\",\n",
    "        \"KKR\":  \"Kolkatta\",\n",
    "        \"Kings XI Punjab Players \": \"Chandigarh\"\n",
    "    } \n",
    "    return switcher.get(loc, \"nothing\")\n",
    " \n"
   ]
  },
  {
   "cell_type": "code",
   "execution_count": 30,
   "metadata": {},
   "outputs": [
    {
     "name": "stdout",
     "output_type": "stream",
     "text": [
      "Mumbai\n"
     ]
    }
   ],
   "source": []
  },
  {
   "cell_type": "code",
   "execution_count": 19,
   "metadata": {},
   "outputs": [
    {
     "name": "stdout",
     "output_type": "stream",
     "text": [
      "KXIP Karachi\n"
     ]
    }
   ],
   "source": []
  },
  {
   "cell_type": "code",
   "execution_count": null,
   "metadata": {},
   "outputs": [],
   "source": []
  }
 ],
 "metadata": {
  "kernelspec": {
   "display_name": "Python 3",
   "language": "python",
   "name": "python3"
  },
  "language_info": {
   "codemirror_mode": {
    "name": "ipython",
    "version": 3
   },
   "file_extension": ".py",
   "mimetype": "text/x-python",
   "name": "python",
   "nbconvert_exporter": "python",
   "pygments_lexer": "ipython3",
   "version": "3.7.3"
  }
 },
 "nbformat": 4,
 "nbformat_minor": 2
}
