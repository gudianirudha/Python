{
 "cells": [
  {
   "cell_type": "code",
   "execution_count": 21,
   "metadata": {},
   "outputs": [
    {
     "name": "stdout",
     "output_type": "stream",
     "text": [
      "Enter the number.123*1\n",
      "123\n"
     ]
    }
   ],
   "source": [
    "class calculate():\n",
    "    def split(self):\n",
    "        perform=input(\"Enter the number.\")\n",
    "        list=['+','-','*','/','%']\n",
    "        if '+' in perform:\n",
    "            list=perform.split('+')\n",
    "            print(eval(list[0])+eval(list[1]))\n",
    "        if '-' in perform:\n",
    "            list=perform.split('-')\n",
    "            print(eval(list[0])-eval(list[1]))\n",
    "        if '*' in perform:\n",
    "            list=perform.split('*')\n",
    "            print(eval(list[0])*eval(list[1]))\n",
    "        if '/' in perform:\n",
    "            list=perform.split('/')\n",
    "            print(eval(list[0])/eval(list[1]))\n",
    "        if '%' in perform:\n",
    "            list=perform.split('%')\n",
    "            print(eval(list[0])%eval(list[1])) \n",
    "object = calculate()\n",
    "object.split()\n"
   ]
  },
  {
   "cell_type": "code",
   "execution_count": null,
   "metadata": {},
   "outputs": [],
   "source": []
  },
  {
   "cell_type": "code",
   "execution_count": null,
   "metadata": {},
   "outputs": [],
   "source": []
  },
  {
   "cell_type": "code",
   "execution_count": null,
   "metadata": {},
   "outputs": [],
   "source": []
  }
 ],
 "metadata": {
  "kernelspec": {
   "display_name": "Python 3",
   "language": "python",
   "name": "python3"
  },
  "language_info": {
   "codemirror_mode": {
    "name": "ipython",
    "version": 3
   },
   "file_extension": ".py",
   "mimetype": "text/x-python",
   "name": "python",
   "nbconvert_exporter": "python",
   "pygments_lexer": "ipython3",
   "version": "3.7.3"
  }
 },
 "nbformat": 4,
 "nbformat_minor": 2
}
