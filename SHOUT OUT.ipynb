{
 "cells": [
  {
   "cell_type": "code",
   "execution_count": 2,
   "metadata": {},
   "outputs": [
    {
     "name": "stdout",
     "output_type": "stream",
     "text": [
      "Enter the no of players:5\n"
     ]
    }
   ],
   "source": [
    "n=input(\"Enter the no of players:\")\n"
   ]
  },
  {
   "cell_type": "code",
   "execution_count": 3,
   "metadata": {},
   "outputs": [
    {
     "name": "stdout",
     "output_type": "stream",
     "text": [
      "Enter the msg:5\n",
      "Enter the msg which is whispered by user1:5\n",
      "Enter the msg which is whispered by user2:55\n",
      "Enter the msg which is whispered by user3:5\n",
      "Enter the msg which is whispered by user4:\n",
      "Enter the msg which is whispered by user5:5\n"
     ]
    }
   ],
   "source": [
    "user_1=input(\"Enter the msg:\")\n",
    "user_2=input(\"Enter the msg which is whispered by user1:\")\n",
    "user_3=input(\"Enter the msg which is whispered by user2:\")\n",
    "user_4=input(\"Enter the msg which is whispered by user3:\")\n",
    "user_5=input(\"Enter the msg which is whispered by user4:\")\n",
    "user_6=input(\"Enter the msg which is whispered by user5:\")"
   ]
  },
  {
   "cell_type": "code",
   "execution_count": 4,
   "metadata": {},
   "outputs": [
    {
     "name": "stdout",
     "output_type": "stream",
     "text": [
      "Congrats,End of the game!\n"
     ]
    }
   ],
   "source": [
    "if( user_1 == user_6 ):\n",
    "    print(\"Congrats,End of the game!\")\n",
    "else:\n",
    "    print(\"SHOUT OUT LOUDER\")\n",
    "    print(\"user1 :Orginal phrase was:\",user_1)\n",
    "    print(\"user6 :Last Recived phrase was \",user_6)\n",
    "    print(\"Try again\")"
   ]
  },
  {
   "cell_type": "markdown",
   "metadata": {},
   "source": []
  }
 ],
 "metadata": {
  "kernelspec": {
   "display_name": "Python 3",
   "language": "python",
   "name": "python3"
  },
  "language_info": {
   "codemirror_mode": {
    "name": "ipython",
    "version": 3
   },
   "file_extension": ".py",
   "mimetype": "text/x-python",
   "name": "python",
   "nbconvert_exporter": "python",
   "pygments_lexer": "ipython3",
   "version": "3.7.3"
  }
 },
 "nbformat": 4,
 "nbformat_minor": 2
}
