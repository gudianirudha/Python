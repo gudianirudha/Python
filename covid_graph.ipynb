{
 "cells": [
  {
   "cell_type": "code",
   "execution_count": 10,
   "metadata": {},
   "outputs": [],
   "source": [
    "from covid import Covid\n",
    "import matplotlib.pyplot as pyplot"
   ]
  },
  {
   "cell_type": "code",
   "execution_count": null,
   "metadata": {},
   "outputs": [],
   "source": [
    "country=input(\"Enter the name of the country:\")\n",
    "\n",
    "covid=Covid()\n",
    "data=covid.get_status_by_country_name(country)\n",
    "cadr ={\n",
    "    key:data[key]\n",
    "    for key in data.keys() & {\"confirmed\",\"active\",\"deaths\",\"recovered\"}\n",
    "}\n",
    "n=list(cadr.keys())\n",
    "v=list(cadr.values())\n",
    "print(cadr)\n",
    "\n",
    "pyplot.title(country)\n",
    "pyplot.bar(range(len(cadr)), v,tick_label=n)\n",
    "pyplot.show()"
   ]
  },
  {
   "cell_type": "code",
   "execution_count": null,
   "metadata": {},
   "outputs": [],
   "source": []
  },
  {
   "cell_type": "code",
   "execution_count": null,
   "metadata": {},
   "outputs": [],
   "source": [
    "_"
   ]
  }
 ],
 "metadata": {
  "kernelspec": {
   "display_name": "Python 3",
   "language": "python",
   "name": "python3"
  },
  "language_info": {
   "codemirror_mode": {
    "name": "ipython",
    "version": 3
   },
   "file_extension": ".py",
   "mimetype": "text/x-python",
   "name": "python",
   "nbconvert_exporter": "python",
   "pygments_lexer": "ipython3",
   "version": "3.7.3"
  }
 },
 "nbformat": 4,
 "nbformat_minor": 2
}
