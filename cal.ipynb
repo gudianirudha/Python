{
 "cells": [
  {
   "cell_type": "code",
   "execution_count": null,
   "metadata": {},
   "outputs": [],
   "source": [
    "class calculation():\n",
    "    def split(self):\n",
    "        perform=input()\n",
    "        \n",
    "    if '+' in perform:\n",
    "            lists=perform.split('+')\n",
    "            print(eval(lists[0])+eval(lists[1]))\n",
    "    if '-' in perfom:\n",
    "            list=perform.split('-')\n",
    "            print(eval(list[0])-eval(list[1]))\n",
    "    if '*' in perform:\n",
    "            lists=perform.split('*')\n",
    "            print(eval(lists[0])*eval(lists[1]))\n",
    "    if '/' in perform:\n",
    "            list=perfom.split('/')\n",
    "            print(eval(list[0])/eval(list[1]))\n",
    "oject=calculation()\n"
   ]
  }
 ],
 "metadata": {
  "kernelspec": {
   "display_name": "Python 3",
   "language": "python",
   "name": "python3"
  },
  "language_info": {
   "codemirror_mode": {
    "name": "ipython",
    "version": 3
   },
   "file_extension": ".py",
   "mimetype": "text/x-python",
   "name": "python",
   "nbconvert_exporter": "python",
   "pygments_lexer": "ipython3",
   "version": "3.7.3"
  }
 },
 "nbformat": 4,
 "nbformat_minor": 2
}
