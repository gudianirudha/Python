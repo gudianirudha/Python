{
 "cells": [
  {
   "cell_type": "code",
   "execution_count": 4,
   "metadata": {},
   "outputs": [
    {
     "name": "stdout",
     "output_type": "stream",
     "text": [
      "ENter weather (sunny, rainy, snowy): z\n",
      "Sorry, not sure what to suggest for z\n"
     ]
    }
   ],
   "source": [
    "weather = input(\"ENter weather (sunny, rainy, snowy): \")\n",
    "\n",
    "if weather.lower() == \"sunny\":\n",
    "    print(\"Wear a t-shirt\")\n",
    "elif weather.lower() == \"rainy\":\n",
    "    print(\"Bring an umbrella and boots\")\n",
    "elif weather.lower() == \"snowy\":\n",
    "    print(\"Wear a warm coat and hat\")\n",
    "else:\n",
    "    print(\"Sorry, not sure what to suggest for\", weather)"
   ]
  },
  {
   "cell_type": "code",
   "execution_count": 6,
   "metadata": {},
   "outputs": [
    {
     "name": "stdout",
     "output_type": "stream",
     "text": [
      "Enter a guess for the secret number (1-3): 2\n",
      "Guess is right\n"
     ]
    }
   ],
   "source": [
    "secret_num = \"2\"\n",
    "guess = input(\"Enter a guess for the secret number (1-3): \")\n",
    "if guess.isdigit() == False:\n",
    "    print(\"Invalid: guess should only use digits\")\n",
    "elif guess == \"1\":\n",
    "    print(\"Guess is too low\")\n",
    "elif guess == secret_num:\n",
    "    print(\"Guess is right\")\n",
    "elif guess == \"3\":\n",
    "    print(\"Guess is too high\")\n",
    "else:\n",
    "    print(guess, \"is not a valid guess (1-3)\")"
   ]
  },
  {
   "cell_type": "code",
   "execution_count": 8,
   "metadata": {},
   "outputs": [
    {
     "name": "stdout",
     "output_type": "stream",
     "text": [
      "enter a number:2\n",
      "crct\n"
     ]
    }
   ],
   "source": [
    "sec=\"2\"\n",
    "guess=input(\"enter a number:\")\n",
    "if guess.isdigit() == False:\n",
    "    print(\"Invalid\")\n",
    "elif guess.isdigit() == \"1\":\n",
    "    print(\"Guess is low\")\n",
    "elif guess == sec:\n",
    "    print(\"crct\")\n",
    "elif guess == \"3\":\n",
    "    print(\"tooo high man\")\n",
    "else:\n",
    "    pass"
   ]
  },
  {
   "cell_type": "code",
   "execution_count": null,
   "metadata": {},
   "outputs": [],
   "source": []
  }
 ],
 "metadata": {
  "kernelspec": {
   "display_name": "Python 3",
   "language": "python",
   "name": "python3"
  },
  "language_info": {
   "codemirror_mode": {
    "name": "ipython",
    "version": 3
   },
   "file_extension": ".py",
   "mimetype": "text/x-python",
   "name": "python",
   "nbconvert_exporter": "python",
   "pygments_lexer": "ipython3",
   "version": "3.7.3"
  }
 },
 "nbformat": 4,
 "nbformat_minor": 2
}
