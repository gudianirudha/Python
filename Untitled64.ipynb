{
 "cells": [
  {
   "cell_type": "code",
   "execution_count": 36,
   "metadata": {},
   "outputs": [],
   "source": [
    "import calendar  \n",
    "from datetime import date,timedelta"
   ]
  },
  {
   "cell_type": "code",
   "execution_count": 37,
   "metadata": {},
   "outputs": [
    {
     "name": "stdout",
     "output_type": "stream",
     "text": [
      "Enter your name: XYZ \n",
      "Enter a year:1965\n",
      "Enter a month:04\n",
      "Enter a date:17\n",
      "You were born on Saturday\n",
      "This year your birthday is on: Friday\n"
     ]
    }
   ],
   "source": [
    "today=date.today()\n",
    "name=str(input(\"Enter your name:\"))\n",
    "year = int(input('Enter a year:'))\n",
    "month = int(input('Enter a month:'))\n",
    "day = int(input('Enter a date:'))\n",
    "dob = date(year, month, day)\n",
    "birthday = date(dob.year, dob.month, dob.day)\n",
    "day_name=date(int(today.year), int(dob.month), int(dob.day))\n",
    "ps = 'You were born on {0}\\nThis year your birthday is on: {1}'.format(birthday.strftime(\"%A\"), day_name.strftime(\"%A\"))\n",
    "print(ps)"
   ]
  },
  {
   "cell_type": "code",
   "execution_count": 38,
   "metadata": {},
   "outputs": [
    {
     "name": "stdout",
     "output_type": "stream",
     "text": [
      "20091\n"
     ]
    }
   ],
   "source": [
    "no_of_days_spent_on_this_world=(today-dob).days\n",
    "print(no_of_days_spent_on_this_world)"
   ]
  },
  {
   "cell_type": "code",
   "execution_count": 29,
   "metadata": {},
   "outputs": [],
   "source": [
    "\n",
    "remainingdays = (birthday-today)\n"
   ]
  },
  {
   "cell_type": "code",
   "execution_count": 39,
   "metadata": {},
   "outputs": [
    {
     "name": "stdout",
     "output_type": "stream",
     "text": [
      "2020-04-19\n",
      "2021-04-17\n",
      "363\n"
     ]
    }
   ],
   "source": [
    "f_date =date(int(today.year), int(today.month), int(today.day)) #2020-04-19\n",
    "l_date = date(2021,int(dob.month), int(dob.day))            #2021-01-01\n",
    "print(f_date)\n",
    "print(l_date)\n",
    "countdown = (l_date - f_date)\n",
    "print(countdown.days)"
   ]
  },
  {
   "cell_type": "code",
   "execution_count": 34,
   "metadata": {},
   "outputs": [
    {
     "name": "stdout",
     "output_type": "stream",
     "text": [
      "-20091 days, 0:00:00\n"
     ]
    }
   ],
   "source": [
    "print(remainingdays)"
   ]
  },
  {
   "cell_type": "code",
   "execution_count": null,
   "metadata": {},
   "outputs": [],
   "source": [
    "age=date(today.year,today.month,today.day)-date(year,month,day)"
   ]
  },
  {
   "cell_type": "code",
   "execution_count": null,
   "metadata": {},
   "outputs": [],
   "source": [
    "print(age)"
   ]
  },
  {
   "cell_type": "code",
   "execution_count": null,
   "metadata": {},
   "outputs": [],
   "source": [
    "years=age/365"
   ]
  },
  {
   "cell_type": "code",
   "execution_count": null,
   "metadata": {},
   "outputs": [],
   "source": [
    "print(today.year)\n",
    "print(year)\n",
    "print(today.month)\n",
    "print(today.day)\n",
    "print(month)"
   ]
  },
  {
   "cell_type": "code",
   "execution_count": 40,
   "metadata": {},
   "outputs": [
    {
     "name": "stdout",
     "output_type": "stream",
     "text": [
      "55\n"
     ]
    }
   ],
   "source": [
    "def calculate_age(born):\n",
    "    today = date.today()\n",
    "    return today.year - year - ((today.month, today.day) < (month, day))\n",
    "\n",
    "age = calculate_age(dob)\n",
    "print(age)"
   ]
  },
  {
   "cell_type": "code",
   "execution_count": null,
   "metadata": {},
   "outputs": [],
   "source": []
  },
  {
   "cell_type": "code",
   "execution_count": null,
   "metadata": {},
   "outputs": [],
   "source": []
  }
 ],
 "metadata": {
  "kernelspec": {
   "display_name": "Python 3",
   "language": "python",
   "name": "python3"
  },
  "language_info": {
   "codemirror_mode": {
    "name": "ipython",
    "version": 3
   },
   "file_extension": ".py",
   "mimetype": "text/x-python",
   "name": "python",
   "nbconvert_exporter": "python",
   "pygments_lexer": "ipython3",
   "version": "3.7.3"
  }
 },
 "nbformat": 4,
 "nbformat_minor": 2
}
