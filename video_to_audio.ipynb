{
 "cells": [
  {
   "cell_type": "code",
   "execution_count": 1,
   "metadata": {},
   "outputs": [],
   "source": [
    "import urllib.request\n",
    "import urllib.error\n",
    "import re\n",
    "import sys\n",
    "import time\n",
    "import os\n",
    "import pipes"
   ]
  },
  {
   "cell_type": "code",
   "execution_count": 1,
   "metadata": {},
   "outputs": [],
   "source": [
    "def video_to_audio(ani):\n",
    "\ttry:\n",
    "\t\tfile, file_extension = os.path.splitext(fileName)\n",
    "\t\tfile = pipes.quote(file)\n",
    "\t\tvideo_to_wav = 'ffmpeg -i ' + file + file_extension + ' ' + file + '.wav'\n",
    "\t\tfinal_audio = 'lame '+ file + '.wav' + ' ' + file + '.mp3'\n",
    "\t\tos.system(video_to_wav)\n",
    "\t\tos.system(final_audio)\n",
    "\t\t#file=pipes.quote(file)\n",
    "\t\t#os.remove(file + '.wav')\n",
    "\t\tprint(\"sucessfully converted \", fileName, \" into audio!\")\n",
    "\texcept OSError as err:\n",
    "\t\tprint(err.reason)\n",
    "\t\texit(1)"
   ]
  },
  {
   "cell_type": "code",
   "execution_count": 6,
   "metadata": {},
   "outputs": [],
   "source": [
    "def main():\n",
    "\tif len(sys.argv) <1 or len(sys.argv) > 2:\n",
    "\t\tprint('command usage: python3 video_to_audio.py FileName')\n",
    "\t\texit(1)\n",
    "    \n",
    "\t\tfilePath = sys.argv[1]\n",
    "\t\t# check if the specified file exists or not\n",
    "\t\ttry:\n",
    "\t\t\tif os.path.exists(filePath):\n",
    "\t\t\t\tprint(\"file found!\")\n",
    "\t\texcept OSError as err:\n",
    "\t\t\tprint(err.reason)\n",
    "\t\t\texit(1)\n",
    "\t\t# convert video to audio\n",
    "\t\tvideo_to_audio(filePath)\n",
    "\t\ttime.sleep(1)"
   ]
  },
  {
   "cell_type": "code",
   "execution_count": 13,
   "metadata": {},
   "outputs": [
    {
     "ename": "SyntaxError",
     "evalue": "invalid syntax (<ipython-input-13-caeb696dcb82>, line 1)",
     "output_type": "error",
     "traceback": [
      "\u001b[1;36m  File \u001b[1;32m\"<ipython-input-13-caeb696dcb82>\"\u001b[1;36m, line \u001b[1;32m1\u001b[0m\n\u001b[1;33m    else:\u001b[0m\n\u001b[1;37m       ^\u001b[0m\n\u001b[1;31mSyntaxError\u001b[0m\u001b[1;31m:\u001b[0m invalid syntax\n"
     ]
    }
   ],
   "source": []
  },
  {
   "cell_type": "code",
   "execution_count": null,
   "metadata": {},
   "outputs": [],
   "source": []
  }
 ],
 "metadata": {
  "kernelspec": {
   "display_name": "Python 3",
   "language": "python",
   "name": "python3"
  },
  "language_info": {
   "codemirror_mode": {
    "name": "ipython",
    "version": 3
   },
   "file_extension": ".py",
   "mimetype": "text/x-python",
   "name": "python",
   "nbconvert_exporter": "python",
   "pygments_lexer": "ipython3",
   "version": "3.7.3"
  }
 },
 "nbformat": 4,
 "nbformat_minor": 2
}
